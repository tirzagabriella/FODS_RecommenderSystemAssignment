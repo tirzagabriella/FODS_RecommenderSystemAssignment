{
  "nbformat": 4,
  "nbformat_minor": 0,
  "metadata": {
    "colab": {
      "provenance": []
    },
    "kernelspec": {
      "name": "python3",
      "display_name": "Python 3"
    },
    "language_info": {
      "name": "python"
    }
  },
  "cells": [
    {
      "cell_type": "code",
      "execution_count": 29,
      "metadata": {
        "id": "8YOsJTgpyBQP"
      },
      "outputs": [],
      "source": [
        "import pandas as pd\n",
        "from math import sqrt\n",
        "import numpy as np"
      ]
    },
    {
      "cell_type": "code",
      "source": [
        "movies_df = pd.read_csv('/content/movies.csv')\n",
        "ratings_df = pd.read_csv('/content/ratings.csv')\n",
        "print(movies_df.info())"
      ],
      "metadata": {
        "colab": {
          "base_uri": "https://localhost:8080/"
        },
        "id": "-wsqenp4ytKh",
        "outputId": "7ded9cd4-da44-42f1-de0c-282433f11e0b"
      },
      "execution_count": null,
      "outputs": [
        {
          "output_type": "stream",
          "name": "stdout",
          "text": [
            "<class 'pandas.core.frame.DataFrame'>\n",
            "RangeIndex: 86537 entries, 0 to 86536\n",
            "Data columns (total 3 columns):\n",
            " #   Column   Non-Null Count  Dtype \n",
            "---  ------   --------------  ----- \n",
            " 0   movieId  86537 non-null  int64 \n",
            " 1   title    86537 non-null  object\n",
            " 2   genres   86537 non-null  object\n",
            "dtypes: int64(1), object(2)\n",
            "memory usage: 2.0+ MB\n",
            "None\n"
          ]
        }
      ]
    },
    {
      "cell_type": "code",
      "source": [
        "userInput = [{'title':'Star Wars: Episode IV - A New Hope (1977)', 'rating':3},\n",
        "             {'title':'Forrest Gump (1994)', 'rating':4.5},\n",
        "             {'title':'Beauty and the Beast (1991)', 'rating':2},\n",
        "             {'title':'Insidious (2010)', 'rating':3.5},\n",
        "             {'title':'Conjuring, The (2013)', 'rating':5}]\n",
        "inputMovies = pd.DataFrame(userInput)\n",
        "print(inputMovies)"
      ],
      "metadata": {
        "colab": {
          "base_uri": "https://localhost:8080/"
        },
        "id": "u-zd8DrGzTxY",
        "outputId": "9e49705c-02db-416b-c9ff-71e962276fae"
      },
      "execution_count": null,
      "outputs": [
        {
          "output_type": "stream",
          "name": "stdout",
          "text": [
            "                                       title  rating\n",
            "0  Star Wars: Episode IV - A New Hope (1977)     3.0\n",
            "1                        Forrest Gump (1994)     4.5\n",
            "2                Beauty and the Beast (1991)     2.0\n",
            "3                           Insidious (2010)     3.5\n",
            "4                      Conjuring, The (2013)     5.0\n"
          ]
        }
      ]
    },
    {
      "cell_type": "code",
      "source": [
        "inputId = movies_df[movies_df['title'].isin(inputMovies['title'].tolist())] # get all movies data where the title is listed in the input list\n",
        "inputMovies = pd.merge(inputId, inputMovies) # merge the ids received from movies dataframe to inputMovies dataframe\n",
        "inputMovies = inputMovies.drop('genres', 1) # for now genre is not used for the analysis\n",
        "inputMovies = inputMovies[['movieId','title','rating']]\n",
        "print(inputMovies)"
      ],
      "metadata": {
        "colab": {
          "base_uri": "https://localhost:8080/"
        },
        "id": "PihrpY6_0Ins",
        "outputId": "ba8b6e71-c973-473a-cb83-2f9612f70c8b"
      },
      "execution_count": null,
      "outputs": [
        {
          "output_type": "stream",
          "name": "stdout",
          "text": [
            "   movieId                                      title  rating\n",
            "0      260  Star Wars: Episode IV - A New Hope (1977)     3.0\n",
            "1      356                        Forrest Gump (1994)     4.5\n",
            "2      595                Beauty and the Beast (1991)     2.0\n",
            "3    85788                           Insidious (2010)     3.5\n",
            "4   103688                      Conjuring, The (2013)     5.0\n"
          ]
        },
        {
          "output_type": "stream",
          "name": "stderr",
          "text": [
            "<ipython-input-18-cf5b51285fda>:3: FutureWarning: In a future version of pandas all arguments of DataFrame.drop except for the argument 'labels' will be keyword-only.\n",
            "  inputMovies = inputMovies.drop('genres', 1) # for now genre is not used for the analysis\n"
          ]
        }
      ]
    },
    {
      "cell_type": "code",
      "source": [
        "userSubset = ratings_df[ratings_df['movieId'].isin(inputMovies['movieId'].tolist())] # get all ratings data that has the same movie ids as the one in the inputMovies dataframe\n",
        "\n",
        "#Groupby creates several sub dataframes where they all have the same value in the column specified as the parameter\n",
        "print(userSubset.groupby('movieId').count()) # count the amount of reviews for each movies"
      ],
      "metadata": {
        "colab": {
          "base_uri": "https://localhost:8080/"
        },
        "id": "ElY9NTre2deU",
        "outputId": "eeb96c9d-81a7-4549-cc77-17ceb2efa4c0"
      },
      "execution_count": null,
      "outputs": [
        {
          "output_type": "stream",
          "name": "stdout",
          "text": [
            "         userId  rating  timestamp\n",
            "movieId                           \n",
            "260        1508    1508       1508\n",
            "356        1736    1736       1736\n",
            "595         704     704        704\n",
            "85788        55      55         55\n",
            "103688       80      80         80\n"
          ]
        }
      ]
    },
    {
      "cell_type": "code",
      "source": [
        "#Groupby creates several sub dataframes where they all have the same value in the column specified as the parameter\n",
        "userSubsetGroup = userSubset.groupby(['userId']) # now data is grouped by user id\n",
        "\n",
        "def take_5_elem(x):\n",
        "    # print (len(x[1]))\n",
        "    return len(x[1])\n",
        "\n",
        "\n",
        "#Sorting it so users with movie most in common with the input will have priority\n",
        "userSubsetGroup = sorted(userSubsetGroup, key=take_5_elem, reverse=True) # get 5 sorted datas from each user\n",
        "\n",
        "userSubsetGroup = userSubsetGroup[0:100]\n",
        "print(userSubsetGroup[0:5])"
      ],
      "metadata": {
        "colab": {
          "base_uri": "https://localhost:8080/"
        },
        "id": "5qkrATGG3DL4",
        "outputId": "fe3b7ca0-665f-449a-d987-5c123c898c7e"
      },
      "execution_count": null,
      "outputs": [
        {
          "output_type": "stream",
          "name": "stdout",
          "text": [
            "[(2176,         userId  movieId  rating     timestamp\n",
            "210478    2176      260     5.0  1.459109e+09\n",
            "210486    2176      356     5.0  1.459110e+09\n",
            "210505    2176      595     4.0  1.459110e+09\n",
            "210866    2176    85788     5.0  1.459111e+09\n",
            "210887    2176   103688     5.0  1.459111e+09), (2402,         userId  movieId  rating     timestamp\n",
            "237574    2402      260     4.0  1.429820e+09\n",
            "237600    2402      356     3.5  1.429820e+09\n",
            "237666    2402      595     3.5  1.444760e+09\n",
            "239707    2402    85788     3.0  1.444418e+09\n",
            "239930    2402   103688     2.5  1.444759e+09), (3653,         userId  movieId  rating     timestamp\n",
            "368343    3653      260     4.0  1.453531e+09\n",
            "368355    3653      356     4.5  1.455761e+09\n",
            "368380    3653      595     3.0  1.453693e+09\n",
            "369021    3653    85788     1.5  1.453581e+09\n",
            "369069    3653   103688     4.0  1.455761e+09), (3786,         userId  movieId  rating     timestamp\n",
            "384164    3786      260     4.0  1.558881e+09\n",
            "384170    3786      356     4.0  1.558882e+09\n",
            "384183    3786      595     3.5  1.558883e+09\n",
            "384471    3786    85788     4.0  1.558882e+09\n",
            "384502    3786   103688     4.5  1.558882e+09), (4127,         userId  movieId  rating     timestamp\n",
            "420754    4127      260     5.0  1.454440e+09\n",
            "420768    4127      356     3.0  1.458915e+09\n",
            "420808    4127      595     4.5  1.454685e+09\n",
            "422049    4127    85788     3.0  1.458272e+09\n",
            "422205    4127   103688     4.0  1.455857e+09)]\n"
          ]
        },
        {
          "output_type": "stream",
          "name": "stderr",
          "text": [
            "<ipython-input-27-04e2090d5e3c>:10: FutureWarning: In a future version of pandas, a length 1 tuple will be returned when iterating over a groupby with a grouper equal to a list of length 1. Don't supply a list with a single grouper to avoid this warning.\n",
            "  userSubsetGroup = sorted(userSubsetGroup, key=take_5_elem, reverse=True) # get 5 sorted datas from each user\n"
          ]
        }
      ]
    },
    {
      "cell_type": "code",
      "source": [
        "#Store the Pearson Correlation in a dictionary, where the key is the user Id and the value is the coefficient\n",
        "pearsonCorrelationDict = {}\n",
        "\n",
        "#For every user group in our subset\n",
        "for name, group in userSubsetGroup:\n",
        "\n",
        "    #Let's start by sorting the input and current user group so the values aren't mixed up later on\n",
        "    group = group.sort_values(by='movieId')\n",
        "    inputMovies = inputMovies.sort_values(by='movieId')\n",
        "\n",
        "    #Get the N for the formula\n",
        "    nRatings = len(group)\n",
        "\n",
        "    #Get the review scores for the movies that they both have in common\n",
        "    temp_df = inputMovies[inputMovies['movieId'].isin(group['movieId'].tolist())]\n",
        "\n",
        "    #And then store them in a temporary buffer variable in a list format to facilitate future calculations\n",
        "    tempRatingList = temp_df['rating'].tolist()\n",
        "\n",
        "    #Let's also put the current user group reviews in a list format\n",
        "    tempGroupList = group['rating'].tolist()\n",
        "\n",
        "    # Notes: Pearson Correlation is used to find similarity values ​​between users and using the Firefly Algorithm to determine the film that best suits the user\n",
        "    #Now let's calculate the pearson correlation between two users, so called, x and y manually (check the formula from week 7 slide)\n",
        "    Sxx = sum([i**2 for i in tempRatingList]) - pow(sum(tempRatingList),2)/float(nRatings)\n",
        "    Syy = sum([i**2 for i in tempGroupList]) - pow(sum(tempGroupList),2)/float(nRatings)\n",
        "    Sxy = sum( i*j for i, j in zip(tempRatingList, tempGroupList)) - sum(tempRatingList)*sum(tempGroupList)/float(nRatings)\n",
        "\n",
        "    #If the denominator is different than zero, then divide, else, 0 correlation.\n",
        "    if Sxx != 0 and Syy != 0:\n",
        "        pearsonCorrelationDict[name] = Sxy/sqrt(Sxx*Syy)\n",
        "    else:\n",
        "        pearsonCorrelationDict[name] = 0"
      ],
      "metadata": {
        "id": "WyLVgM2M3vqQ"
      },
      "execution_count": null,
      "outputs": []
    },
    {
      "cell_type": "code",
      "source": [
        "pearsonDF = pd.DataFrame.from_dict(pearsonCorrelationDict, orient='index') #create dataframe from the created dictionary\n",
        "pearsonDF.columns = ['similarityIndex'] # name the column 'similarityIndex'\n",
        "pearsonDF['userId'] = pearsonDF.index\n",
        "pearsonDF.index = range(len(pearsonDF))\n",
        "print(pearsonDF.head())"
      ],
      "metadata": {
        "colab": {
          "base_uri": "https://localhost:8080/"
        },
        "id": "GEbFe8bi5SXX",
        "outputId": "46780efd-8ff7-4fc0-9908-10400ef0a787"
      },
      "execution_count": null,
      "outputs": [
        {
          "output_type": "stream",
          "name": "stdout",
          "text": [
            "   similarityIndex  userId\n",
            "0         0.749269    2176\n",
            "1        -0.606143    2402\n",
            "2         0.403509    3653\n",
            "3         0.888523    3786\n",
            "4        -0.515122    4127\n"
          ]
        }
      ]
    },
    {
      "cell_type": "code",
      "source": [
        "topUsers=pearsonDF.sort_values(by='similarityIndex', ascending=False)[0:50] # sort topUsers data by similarityIndex\n",
        "print(topUsers.head())"
      ],
      "metadata": {
        "colab": {
          "base_uri": "https://localhost:8080/"
        },
        "id": "CQrcF86_5W-J",
        "outputId": "6802182a-76c0-4d1d-d8d9-f17e89966481"
      },
      "execution_count": null,
      "outputs": [
        {
          "output_type": "stream",
          "name": "stdout",
          "text": [
            "    similarityIndex  userId\n",
            "36         0.997176     165\n",
            "35         0.995871     156\n",
            "55         0.993399     415\n",
            "39         0.953821     189\n",
            "67         0.953821     562\n"
          ]
        }
      ]
    },
    {
      "cell_type": "code",
      "source": [
        "topUsersRating=topUsers.merge(ratings_df, left_on='userId', right_on='userId', how='inner') # merge ratings dataframe with the topUsers dataframe\n",
        "print(topUsersRating.head(100))"
      ],
      "metadata": {
        "colab": {
          "base_uri": "https://localhost:8080/"
        },
        "id": "gtamZh1v5cmD",
        "outputId": "7163de0a-f1b3-4580-bcb8-d126cfdea019"
      },
      "execution_count": null,
      "outputs": [
        {
          "output_type": "stream",
          "name": "stdout",
          "text": [
            "    similarityIndex  userId  movieId  rating     timestamp\n",
            "0          0.997176     165        1     4.0  1.431083e+09\n",
            "1          0.997176     165        6     4.0  1.431097e+09\n",
            "2          0.997176     165       10     3.5  1.431082e+09\n",
            "3          0.997176     165       32     4.5  1.429773e+09\n",
            "4          0.997176     165       47     2.0  1.431097e+09\n",
            "..              ...     ...      ...     ...           ...\n",
            "95         0.997176     165     2116     4.0  1.431083e+09\n",
            "96         0.997176     165     2167     3.0  1.431083e+09\n",
            "97         0.997176     165     2194     4.0  1.431097e+09\n",
            "98         0.997176     165     2268     4.0  1.431199e+09\n",
            "99         0.997176     165     2278     3.0  1.431083e+09\n",
            "\n",
            "[100 rows x 5 columns]\n"
          ]
        }
      ]
    },
    {
      "cell_type": "code",
      "source": [
        "#Multiplies the similarity by the user’s ratings\n",
        "topUsersRating['weightedRating'] = topUsersRating['similarityIndex']*topUsersRating['rating']\n",
        "print(topUsersRating.head())"
      ],
      "metadata": {
        "colab": {
          "base_uri": "https://localhost:8080/"
        },
        "id": "Z4Y7sRPn5h7-",
        "outputId": "a6a9156e-4330-4697-ccd9-a53d717ef4f0"
      },
      "execution_count": null,
      "outputs": [
        {
          "output_type": "stream",
          "name": "stdout",
          "text": [
            "   similarityIndex  userId  movieId  rating     timestamp  weightedRating\n",
            "0         0.997176     165        1     4.0  1.431083e+09        3.988706\n",
            "1         0.997176     165        6     4.0  1.431097e+09        3.988706\n",
            "2         0.997176     165       10     3.5  1.431082e+09        3.490118\n",
            "3         0.997176     165       32     4.5  1.429773e+09        4.487294\n",
            "4         0.997176     165       47     2.0  1.431097e+09        1.994353\n"
          ]
        }
      ]
    },
    {
      "cell_type": "code",
      "source": [
        "#Applies a sum to the topUsers after grouping it up by movieId\n",
        "tempTopUsersRating = topUsersRating.groupby('movieId').sum()[['similarityIndex','weightedRating']]\n",
        "tempTopUsersRating.columns = ['sum_similarityIndex','sum_weightedRating']\n",
        "print(tempTopUsersRating.head())"
      ],
      "metadata": {
        "colab": {
          "base_uri": "https://localhost:8080/"
        },
        "id": "tLPGohTY5jf9",
        "outputId": "c3a28832-3a96-44c6-80e0-ab73cd95ba7c"
      },
      "execution_count": null,
      "outputs": [
        {
          "output_type": "stream",
          "name": "stdout",
          "text": [
            "         sum_similarityIndex  sum_weightedRating\n",
            "movieId                                         \n",
            "1                  30.208967          113.539960\n",
            "2                  17.177846           54.273822\n",
            "3                   5.071901           13.969984\n",
            "5                   6.304337           14.760115\n",
            "6                  14.593011           52.502538\n"
          ]
        }
      ]
    },
    {
      "cell_type": "code",
      "source": [
        "#Creates an empty dataframe\n",
        "recommendation_df = pd.DataFrame()\n",
        "\n",
        "#Now we take the weighted average\n",
        "recommendation_df['weighted average recommendation score'] = tempTopUsersRating['sum_weightedRating']/tempTopUsersRating['sum_similarityIndex']\n",
        "recommendation_df['movieId'] = tempTopUsersRating.index\n",
        "print(recommendation_df.head(10))"
      ],
      "metadata": {
        "colab": {
          "base_uri": "https://localhost:8080/"
        },
        "id": "VgI99AhK5pGC",
        "outputId": "47e529c8-daa4-49d0-95ab-93d968151144"
      },
      "execution_count": null,
      "outputs": [
        {
          "output_type": "stream",
          "name": "stdout",
          "text": [
            "         weighted average recommendation score  movieId\n",
            "movieId                                                \n",
            "1                                     3.758485        1\n",
            "2                                     3.159524        2\n",
            "3                                     2.754388        3\n",
            "5                                     2.341264        5\n",
            "6                                     3.597786        6\n",
            "7                                     3.452657        7\n",
            "8                                     3.500000        8\n",
            "9                                     3.264853        9\n",
            "10                                    3.329587       10\n",
            "11                                    2.911337       11\n"
          ]
        }
      ]
    },
    {
      "cell_type": "code",
      "source": [
        "recommendation_df = recommendation_df.sort_values(by='weighted average recommendation score', ascending=False) # sort data by weighted average\n",
        "print(recommendation_df)"
      ],
      "metadata": {
        "colab": {
          "base_uri": "https://localhost:8080/"
        },
        "id": "CKibsxZlJ1V4",
        "outputId": "6db4950d-919b-44b5-aea1-8863164ad603"
      },
      "execution_count": null,
      "outputs": [
        {
          "output_type": "stream",
          "name": "stdout",
          "text": [
            "         weighted average recommendation score  movieId\n",
            "movieId                                                \n",
            "101850                                     5.0   101850\n",
            "26082                                      5.0    26082\n",
            "7234                                       5.0     7234\n",
            "116397                                     5.0   116397\n",
            "26587                                      5.0    26587\n",
            "...                                        ...      ...\n",
            "5852                                       0.5     5852\n",
            "193185                                     0.5   193185\n",
            "4434                                       0.5     4434\n",
            "7244                                       0.5     7244\n",
            "110773                                     0.5   110773\n",
            "\n",
            "[8754 rows x 2 columns]\n"
          ]
        }
      ]
    },
    {
      "cell_type": "code",
      "source": [
        "recommended_movie=movies_df.loc[movies_df['movieId'].isin(recommendation_df['movieId'])]\n",
        "\n",
        "#we don't want to recommend the same movie (exclude same movie from recommendation list)\n",
        "recommended_movie=recommended_movie.loc[~recommended_movie.movieId.isin(userSubset['movieId'])]\n",
        "\n",
        "print(recommended_movie)\n"
      ],
      "metadata": {
        "colab": {
          "base_uri": "https://localhost:8080/"
        },
        "id": "eUakOOcvJ_3D",
        "outputId": "04ef64f4-aea7-4997-ff29-2958e79d56aa"
      },
      "execution_count": null,
      "outputs": [
        {
          "output_type": "stream",
          "name": "stdout",
          "text": [
            "       movieId                                          title  \\\n",
            "0            1                               Toy Story (1995)   \n",
            "1            2                                 Jumanji (1995)   \n",
            "2            3                        Grumpier Old Men (1995)   \n",
            "4            5             Father of the Bride Part II (1995)   \n",
            "5            6                                    Heat (1995)   \n",
            "...        ...                                            ...   \n",
            "86076   287397                                Kandahar (2023)   \n",
            "86296   288135                                My Fault (2023)   \n",
            "86303   288167                            Extraction 2 (2023)   \n",
            "86310   288209  Black Clover: Sword of the Wizard King (2023)   \n",
            "86400   288563                          Lust Stories 2 (2023)   \n",
            "\n",
            "                                            genres  \n",
            "0      Adventure|Animation|Children|Comedy|Fantasy  \n",
            "1                       Adventure|Children|Fantasy  \n",
            "2                                   Comedy|Romance  \n",
            "4                                           Comedy  \n",
            "5                            Action|Crime|Thriller  \n",
            "...                                            ...  \n",
            "86076                              Action|Thriller  \n",
            "86296                                Drama|Romance  \n",
            "86303                              Action|Thriller  \n",
            "86310           Action|Adventure|Animation|Fantasy  \n",
            "86400                                Drama|Romance  \n",
            "\n",
            "[8749 rows x 3 columns]\n"
          ]
        }
      ]
    }
  ]
}